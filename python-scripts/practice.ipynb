{
 "cells": [
  {
   "cell_type": "code",
   "execution_count": 7,
   "id": "ade8026a-6fe2-40cd-9bff-2c47848f2f03",
   "metadata": {
    "tags": []
   },
   "outputs": [
    {
     "name": "stdout",
     "output_type": "stream",
     "text": [
      "1.3.4\n",
      "1.21.4\n",
      "1.7.3\n"
     ]
    }
   ],
   "source": [
    "import pandas as pd\n",
    "print(pd.__version__)\n",
    "\n",
    "import numpy as np\n",
    "print(np.__version__)\n",
    "\n",
    "import scipy as sp\n",
    "print(sp.__version__)\n",
    "\n",
    "import matplotlib.pyplot as plt"
   ]
  },
  {
   "cell_type": "code",
   "execution_count": 8,
   "id": "d6dcc911-16b3-481d-ab30-ccde6bd325bd",
   "metadata": {},
   "outputs": [],
   "source": [
    "# PRACTICING DATAFRAMES AND STUFF\n",
    "\n",
    "s = pd.Series([1, 3, 5, np.nan, 6, 8])"
   ]
  },
  {
   "cell_type": "code",
   "execution_count": 9,
   "id": "d80f6708-3899-45ff-8fc5-201aeadc8448",
   "metadata": {},
   "outputs": [
    {
     "data": {
      "text/plain": [
       "0    1.0\n",
       "1    3.0\n",
       "2    5.0\n",
       "3    NaN\n",
       "4    6.0\n",
       "5    8.0\n",
       "dtype: float64"
      ]
     },
     "execution_count": 9,
     "metadata": {},
     "output_type": "execute_result"
    }
   ],
   "source": [
    "s"
   ]
  },
  {
   "cell_type": "code",
   "execution_count": 10,
   "id": "6f2b441f-2f7b-46ed-b4ca-f0133b528d25",
   "metadata": {},
   "outputs": [],
   "source": [
    "dates = pd.date_range(\"20211128\",periods = 6)"
   ]
  },
  {
   "cell_type": "code",
   "execution_count": 11,
   "id": "b4aa0c5e-c809-459d-bd9b-f9500e449337",
   "metadata": {},
   "outputs": [
    {
     "data": {
      "text/plain": [
       "DatetimeIndex(['2021-11-28', '2021-11-29', '2021-11-30', '2021-12-01',\n",
       "               '2021-12-02', '2021-12-03'],\n",
       "              dtype='datetime64[ns]', freq='D')"
      ]
     },
     "execution_count": 11,
     "metadata": {},
     "output_type": "execute_result"
    }
   ],
   "source": [
    "dates"
   ]
  },
  {
   "cell_type": "code",
   "execution_count": 12,
   "id": "b45e2194-f29c-4f7e-b269-1594b164a3f6",
   "metadata": {},
   "outputs": [],
   "source": [
    "df = pd.DataFrame(np.random.randn(6,4), index=dates, columns=list(\"ABCD\"))"
   ]
  },
  {
   "cell_type": "code",
   "execution_count": 13,
   "id": "37cba8a6-c6ca-4e05-9530-a4000bbc9c5e",
   "metadata": {},
   "outputs": [
    {
     "data": {
      "text/html": [
       "<div>\n",
       "<style scoped>\n",
       "    .dataframe tbody tr th:only-of-type {\n",
       "        vertical-align: middle;\n",
       "    }\n",
       "\n",
       "    .dataframe tbody tr th {\n",
       "        vertical-align: top;\n",
       "    }\n",
       "\n",
       "    .dataframe thead th {\n",
       "        text-align: right;\n",
       "    }\n",
       "</style>\n",
       "<table border=\"1\" class=\"dataframe\">\n",
       "  <thead>\n",
       "    <tr style=\"text-align: right;\">\n",
       "      <th></th>\n",
       "      <th>A</th>\n",
       "      <th>B</th>\n",
       "      <th>C</th>\n",
       "      <th>D</th>\n",
       "    </tr>\n",
       "  </thead>\n",
       "  <tbody>\n",
       "    <tr>\n",
       "      <th>2021-11-28</th>\n",
       "      <td>-1.777057</td>\n",
       "      <td>0.299983</td>\n",
       "      <td>-0.575560</td>\n",
       "      <td>-1.606795</td>\n",
       "    </tr>\n",
       "    <tr>\n",
       "      <th>2021-11-29</th>\n",
       "      <td>-1.314581</td>\n",
       "      <td>0.803699</td>\n",
       "      <td>-2.352117</td>\n",
       "      <td>1.238200</td>\n",
       "    </tr>\n",
       "    <tr>\n",
       "      <th>2021-11-30</th>\n",
       "      <td>1.438631</td>\n",
       "      <td>0.442544</td>\n",
       "      <td>-1.142300</td>\n",
       "      <td>0.650395</td>\n",
       "    </tr>\n",
       "    <tr>\n",
       "      <th>2021-12-01</th>\n",
       "      <td>-0.078902</td>\n",
       "      <td>1.189138</td>\n",
       "      <td>-1.227478</td>\n",
       "      <td>-0.059799</td>\n",
       "    </tr>\n",
       "    <tr>\n",
       "      <th>2021-12-02</th>\n",
       "      <td>0.675630</td>\n",
       "      <td>-0.276016</td>\n",
       "      <td>0.541269</td>\n",
       "      <td>0.684783</td>\n",
       "    </tr>\n",
       "    <tr>\n",
       "      <th>2021-12-03</th>\n",
       "      <td>1.282560</td>\n",
       "      <td>-1.246976</td>\n",
       "      <td>-1.393556</td>\n",
       "      <td>-0.522836</td>\n",
       "    </tr>\n",
       "  </tbody>\n",
       "</table>\n",
       "</div>"
      ],
      "text/plain": [
       "                   A         B         C         D\n",
       "2021-11-28 -1.777057  0.299983 -0.575560 -1.606795\n",
       "2021-11-29 -1.314581  0.803699 -2.352117  1.238200\n",
       "2021-11-30  1.438631  0.442544 -1.142300  0.650395\n",
       "2021-12-01 -0.078902  1.189138 -1.227478 -0.059799\n",
       "2021-12-02  0.675630 -0.276016  0.541269  0.684783\n",
       "2021-12-03  1.282560 -1.246976 -1.393556 -0.522836"
      ]
     },
     "execution_count": 13,
     "metadata": {},
     "output_type": "execute_result"
    }
   ],
   "source": [
    "df"
   ]
  },
  {
   "cell_type": "code",
   "execution_count": 14,
   "id": "4c412051-80a2-45e7-a2d2-128dee0c384a",
   "metadata": {},
   "outputs": [
    {
     "data": {
      "image/png": "[encoded data removed]",
      "text/plain": [
       "<Figure size 432x288 with 1 Axes>"
      ]
     },
     "metadata": {
      "needs_background": "light"
     },
     "output_type": "display_data"
    }
   ],
   "source": [
    "# PRACTICING MATPLOTLIB'S PYPLOT\n",
    "\n",
    "x = np.arange(0, 3 * np.pi, 0.1)\n",
    "y = np.sin(x)\n",
    "\n",
    "plt.title(\"sin wave form\")\n",
    "\n",
    "plt.plot(x, y)\n",
    "plt.show()"
   ]
  },
  {
   "cell_type": "code",
   "execution_count": 15,
   "id": "022071e6-58af-454e-9d17-f83d56b5291d",
   "metadata": {},
   "outputs": [
    {
     "name": "stdout",
     "output_type": "stream",
     "text": [
      "[[1 2]\n",
      " [3 4]]\n"
     ]
    }
   ],
   "source": [
    "# more than one dimension\n",
    "\n",
    "z = np.array([[1,2],[3,4]])\n",
    "print(z)"
   ]
  },
  {
   "cell_type": "code",
   "execution_count": 16,
   "id": "97d06525-0ef8-4bde-ab74-d3b1727ecff5",
   "metadata": {},
   "outputs": [
    {
     "name": "stdout",
     "output_type": "stream",
     "text": [
      "[[[1 2 3 4 5]]]\n"
     ]
    }
   ],
   "source": [
    "# minimum dimensions\n",
    "\n",
    "z = np.array([1,2,3,4,5],ndmin = 3)\n",
    "print(z)"
   ]
  },
  {
   "cell_type": "code",
   "execution_count": 18,
   "id": "199695e4-6c95-4e7c-856e-d8688788f08d",
   "metadata": {},
   "outputs": [
    {
     "data": {
      "text/html": [
       "<div>\n",
       "<style scoped>\n",
       "    .dataframe tbody tr th:only-of-type {\n",
       "        vertical-align: middle;\n",
       "    }\n",
       "\n",
       "    .dataframe tbody tr th {\n",
       "        vertical-align: top;\n",
       "    }\n",
       "\n",
       "    .dataframe thead th {\n",
       "        text-align: right;\n",
       "    }\n",
       "</style>\n",
       "<table border=\"1\" class=\"dataframe\">\n",
       "  <thead>\n",
       "    <tr style=\"text-align: right;\">\n",
       "      <th></th>\n",
       "      <th>persons</th>\n",
       "      <th>competiv</th>\n",
       "      <th>vote00</th>\n",
       "      <th>treatmen</th>\n",
       "      <th>pseudo_t</th>\n",
       "      <th>county</th>\n",
       "      <th>st_sen</th>\n",
       "      <th>st_hse</th>\n",
       "      <th>vote98</th>\n",
       "      <th>newreg</th>\n",
       "      <th>...</th>\n",
       "      <th>comp_mi</th>\n",
       "      <th>comp_ia</th>\n",
       "      <th>fem_miss</th>\n",
       "      <th>female2</th>\n",
       "      <th>lc</th>\n",
       "      <th>hc</th>\n",
       "      <th>pseudo_portion</th>\n",
       "      <th>p</th>\n",
       "      <th>agecat</th>\n",
       "      <th>agecat2</th>\n",
       "    </tr>\n",
       "  </thead>\n",
       "  <tbody>\n",
       "    <tr>\n",
       "      <th>0</th>\n",
       "      <td>1</td>\n",
       "      <td>1</td>\n",
       "      <td>1</td>\n",
       "      <td>-1</td>\n",
       "      <td>0</td>\n",
       "      <td>71</td>\n",
       "      <td>3</td>\n",
       "      <td>5</td>\n",
       "      <td>1</td>\n",
       "      <td>0</td>\n",
       "      <td>...</td>\n",
       "      <td>0</td>\n",
       "      <td>1</td>\n",
       "      <td>0</td>\n",
       "      <td>1</td>\n",
       "      <td>1</td>\n",
       "      <td>1</td>\n",
       "      <td>0.0</td>\n",
       "      <td>0.015758</td>\n",
       "      <td>80</td>\n",
       "      <td>80</td>\n",
       "    </tr>\n",
       "    <tr>\n",
       "      <th>1</th>\n",
       "      <td>1</td>\n",
       "      <td>1</td>\n",
       "      <td>1</td>\n",
       "      <td>1</td>\n",
       "      <td>1</td>\n",
       "      <td>75</td>\n",
       "      <td>27</td>\n",
       "      <td>53</td>\n",
       "      <td>1</td>\n",
       "      <td>0</td>\n",
       "      <td>...</td>\n",
       "      <td>0</td>\n",
       "      <td>1</td>\n",
       "      <td>0</td>\n",
       "      <td>1</td>\n",
       "      <td>1</td>\n",
       "      <td>0</td>\n",
       "      <td>NaN</td>\n",
       "      <td>0.015599</td>\n",
       "      <td>80</td>\n",
       "      <td>80</td>\n",
       "    </tr>\n",
       "    <tr>\n",
       "      <th>2</th>\n",
       "      <td>1</td>\n",
       "      <td>1</td>\n",
       "      <td>1</td>\n",
       "      <td>-1</td>\n",
       "      <td>0</td>\n",
       "      <td>43</td>\n",
       "      <td>28</td>\n",
       "      <td>56</td>\n",
       "      <td>1</td>\n",
       "      <td>0</td>\n",
       "      <td>...</td>\n",
       "      <td>0</td>\n",
       "      <td>1</td>\n",
       "      <td>0</td>\n",
       "      <td>1</td>\n",
       "      <td>1</td>\n",
       "      <td>1</td>\n",
       "      <td>0.0</td>\n",
       "      <td>0.016746</td>\n",
       "      <td>86</td>\n",
       "      <td>85</td>\n",
       "    </tr>\n",
       "    <tr>\n",
       "      <th>3</th>\n",
       "      <td>2</td>\n",
       "      <td>1</td>\n",
       "      <td>1</td>\n",
       "      <td>0</td>\n",
       "      <td>0</td>\n",
       "      <td>43</td>\n",
       "      <td>28</td>\n",
       "      <td>56</td>\n",
       "      <td>1</td>\n",
       "      <td>0</td>\n",
       "      <td>...</td>\n",
       "      <td>0</td>\n",
       "      <td>1</td>\n",
       "      <td>0</td>\n",
       "      <td>1</td>\n",
       "      <td>1</td>\n",
       "      <td>1</td>\n",
       "      <td>NaN</td>\n",
       "      <td>0.011671</td>\n",
       "      <td>30</td>\n",
       "      <td>30</td>\n",
       "    </tr>\n",
       "    <tr>\n",
       "      <th>4</th>\n",
       "      <td>1</td>\n",
       "      <td>1</td>\n",
       "      <td>0</td>\n",
       "      <td>2</td>\n",
       "      <td>2</td>\n",
       "      <td>2</td>\n",
       "      <td>48</td>\n",
       "      <td>96</td>\n",
       "      <td>0</td>\n",
       "      <td>0</td>\n",
       "      <td>...</td>\n",
       "      <td>0</td>\n",
       "      <td>1</td>\n",
       "      <td>0</td>\n",
       "      <td>1</td>\n",
       "      <td>0</td>\n",
       "      <td>1</td>\n",
       "      <td>NaN</td>\n",
       "      <td>0.015758</td>\n",
       "      <td>80</td>\n",
       "      <td>80</td>\n",
       "    </tr>\n",
       "  </tbody>\n",
       "</table>\n",
       "<p>5 rows × 33 columns</p>\n",
       "</div>"
      ],
      "text/plain": [
       "   persons  competiv  vote00  treatmen  pseudo_t  county  st_sen  st_hse  \\\n",
       "0        1         1       1        -1         0      71       3       5   \n",
       "1        1         1       1         1         1      75      27      53   \n",
       "2        1         1       1        -1         0      43      28      56   \n",
       "3        2         1       1         0         0      43      28      56   \n",
       "4        1         1       0         2         2       2      48      96   \n",
       "\n",
       "   vote98  newreg  ...  comp_mi  comp_ia  fem_miss  female2  lc  hc  \\\n",
       "0       1       0  ...        0        1         0        1   1   1   \n",
       "1       1       0  ...        0        1         0        1   1   0   \n",
       "2       1       0  ...        0        1         0        1   1   1   \n",
       "3       1       0  ...        0        1         0        1   1   1   \n",
       "4       0       0  ...        0        1         0        1   0   1   \n",
       "\n",
       "   pseudo_portion         p  agecat  agecat2  \n",
       "0             0.0  0.015758      80       80  \n",
       "1             NaN  0.015599      80       80  \n",
       "2             0.0  0.016746      86       85  \n",
       "3             NaN  0.011671      30       30  \n",
       "4             NaN  0.015758      80       80  \n",
       "\n",
       "[5 rows x 33 columns]"
      ]
     },
     "execution_count": 18,
     "metadata": {},
     "output_type": "execute_result"
    }
   ],
   "source": [
    "# my own practice\n",
    "\n",
    "data = pd.read_csv('comp_ia_RCT_sample2.csv')\n",
    "data.head()"
   ]
  },
  {
   "cell_type": "code",
   "execution_count": null,
   "id": "5406d8b3-27a9-4778-aa22-8bac6f8aa859",
   "metadata": {},
   "outputs": [],
   "source": []
  }
 ],
 "metadata": {
  "kernelspec": {
   "display_name": "Python 3 (ipykernel)",
   "language": "python",
   "name": "python3"
  },
  "language_info": {
   "codemirror_mode": {
    "name": "ipython",
    "version": 3
   },
   "file_extension": ".py",
   "mimetype": "text/x-python",
   "name": "python",
   "nbconvert_exporter": "python",
   "pygments_lexer": "ipython3",
   "version": "3.9.9"
  }
 },
 "nbformat": 4,
 "nbformat_minor": 5
}
